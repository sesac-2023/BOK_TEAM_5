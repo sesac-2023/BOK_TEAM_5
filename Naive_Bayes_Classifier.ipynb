{
 "cells": [
  {
   "cell_type": "code",
   "execution_count": 12,
   "metadata": {},
   "outputs": [],
   "source": [
    "with open('./doveish.csv', 'r', encoding='utf-8') as f:\n",
    "    doveish = []\n",
    "    for i in f.readlines():\n",
    "        doveish.append(i)"
   ]
  },
  {
   "cell_type": "code",
   "execution_count": 13,
   "metadata": {},
   "outputs": [
    {
     "data": {
      "text/plain": [
       "32035"
      ]
     },
     "execution_count": 13,
     "metadata": {},
     "output_type": "execute_result"
    }
   ],
   "source": [
    "len(doveish)"
   ]
  },
  {
   "cell_type": "code",
   "execution_count": 14,
   "metadata": {},
   "outputs": [],
   "source": [
    "with open('./hawkish.csv', 'r', encoding='utf-8') as f:\n",
    "    hawkish = []\n",
    "    for i in f.readlines():\n",
    "        hawkish.append(i)"
   ]
  },
  {
   "cell_type": "code",
   "execution_count": 15,
   "metadata": {},
   "outputs": [
    {
     "data": {
      "text/plain": [
       "36518"
      ]
     },
     "execution_count": 15,
     "metadata": {},
     "output_type": "execute_result"
    }
   ],
   "source": [
    "len(hawkish)"
   ]
  },
  {
   "cell_type": "code",
   "execution_count": 16,
   "metadata": {},
   "outputs": [],
   "source": [
    "import pandas as pd"
   ]
  },
  {
   "cell_type": "code",
   "execution_count": 19,
   "metadata": {},
   "outputs": [],
   "source": [
    "doveish_df = pd.DataFrame(doveish, columns=['words'])"
   ]
  },
  {
   "cell_type": "code",
   "execution_count": 20,
   "metadata": {},
   "outputs": [],
   "source": [
    "doveish_df['label'] = 'doveish'"
   ]
  },
  {
   "cell_type": "code",
   "execution_count": 21,
   "metadata": {},
   "outputs": [
    {
     "data": {
      "text/html": [
       "<div>\n",
       "<style scoped>\n",
       "    .dataframe tbody tr th:only-of-type {\n",
       "        vertical-align: middle;\n",
       "    }\n",
       "\n",
       "    .dataframe tbody tr th {\n",
       "        vertical-align: top;\n",
       "    }\n",
       "\n",
       "    .dataframe thead th {\n",
       "        text-align: right;\n",
       "    }\n",
       "</style>\n",
       "<table border=\"1\" class=\"dataframe\">\n",
       "  <thead>\n",
       "    <tr style=\"text-align: right;\">\n",
       "      <th></th>\n",
       "      <th>words</th>\n",
       "      <th>label</th>\n",
       "    </tr>\n",
       "  </thead>\n",
       "  <tbody>\n",
       "    <tr>\n",
       "      <th>0</th>\n",
       "      <td>기자 기준금리 인하 따라 부동산시장 부동산 대책 시너지효과 발생 기대감 피 오르 전...</td>\n",
       "      <td>doveish</td>\n",
       "    </tr>\n",
       "    <tr>\n",
       "      <th>1</th>\n",
       "      <td>기자 통화정책 나라 환율 맞춰 정하 금리 변수 영향 미친다 엔저 문제 지금 문제 우...</td>\n",
       "      <td>doveish</td>\n",
       "    </tr>\n",
       "    <tr>\n",
       "      <th>2</th>\n",
       "      <td>기자 추경 있 정부 국회 노력 중앙은행 같이 동참 협력 바람직 판단 호주 나라 금리...</td>\n",
       "      <td>doveish</td>\n",
       "    </tr>\n",
       "    <tr>\n",
       "      <th>3</th>\n",
       "      <td>오희 기자 코스피 가금 통 위 기준금리 인하 결정 상승 폭 확대 일 오전 시분 현재...</td>\n",
       "      <td>doveish</td>\n",
       "    </tr>\n",
       "    <tr>\n",
       "      <th>4</th>\n",
       "      <td>뉴욕 특파원 제너럴 보험 사업부문 호주달러 수준 매각 계획 알려졌 마켓 일 현지 시...</td>\n",
       "      <td>doveish</td>\n",
       "    </tr>\n",
       "    <tr>\n",
       "      <th>...</th>\n",
       "      <td>...</td>\n",
       "      <td>...</td>\n",
       "    </tr>\n",
       "    <tr>\n",
       "      <th>32030</th>\n",
       "      <td>기자 저축은행 상호금융 금융 민간 중 금리 대출 금리 상한 하반기 상향조정 일 고시...</td>\n",
       "      <td>doveish</td>\n",
       "    </tr>\n",
       "    <tr>\n",
       "      <th>32031</th>\n",
       "      <td>기자 지난 규모 신종자본증권 북빌딩 투자자 모집 성공 완료 일 밝혔 신종자본증권 주...</td>\n",
       "      <td>doveish</td>\n",
       "    </tr>\n",
       "    <tr>\n",
       "      <th>32032</th>\n",
       "      <td>기자 월 산업 생산 최대 폭 상승 소비 투자 함께 오르 트리플 상승 성공 무역 적자...</td>\n",
       "      <td>doveish</td>\n",
       "    </tr>\n",
       "    <tr>\n",
       "      <th>32033</th>\n",
       "      <td>하상 자원 달러환율 미국 경제 지표 호조 따른 글로벌 강달러 충격 중국 위안화 약세...</td>\n",
       "      <td>doveish</td>\n",
       "    </tr>\n",
       "    <tr>\n",
       "      <th>32034</th>\n",
       "      <td>기자 부동산임대업 주로 영위 개인사업자 법인 대상 착한 임대인 우대 대출 출시 일 ...</td>\n",
       "      <td>doveish</td>\n",
       "    </tr>\n",
       "  </tbody>\n",
       "</table>\n",
       "<p>32035 rows × 2 columns</p>\n",
       "</div>"
      ],
      "text/plain": [
       "                                                   words    label\n",
       "0      기자 기준금리 인하 따라 부동산시장 부동산 대책 시너지효과 발생 기대감 피 오르 전...  doveish\n",
       "1      기자 통화정책 나라 환율 맞춰 정하 금리 변수 영향 미친다 엔저 문제 지금 문제 우...  doveish\n",
       "2      기자 추경 있 정부 국회 노력 중앙은행 같이 동참 협력 바람직 판단 호주 나라 금리...  doveish\n",
       "3      오희 기자 코스피 가금 통 위 기준금리 인하 결정 상승 폭 확대 일 오전 시분 현재...  doveish\n",
       "4      뉴욕 특파원 제너럴 보험 사업부문 호주달러 수준 매각 계획 알려졌 마켓 일 현지 시...  doveish\n",
       "...                                                  ...      ...\n",
       "32030  기자 저축은행 상호금융 금융 민간 중 금리 대출 금리 상한 하반기 상향조정 일 고시...  doveish\n",
       "32031  기자 지난 규모 신종자본증권 북빌딩 투자자 모집 성공 완료 일 밝혔 신종자본증권 주...  doveish\n",
       "32032  기자 월 산업 생산 최대 폭 상승 소비 투자 함께 오르 트리플 상승 성공 무역 적자...  doveish\n",
       "32033  하상 자원 달러환율 미국 경제 지표 호조 따른 글로벌 강달러 충격 중국 위안화 약세...  doveish\n",
       "32034  기자 부동산임대업 주로 영위 개인사업자 법인 대상 착한 임대인 우대 대출 출시 일 ...  doveish\n",
       "\n",
       "[32035 rows x 2 columns]"
      ]
     },
     "execution_count": 21,
     "metadata": {},
     "output_type": "execute_result"
    }
   ],
   "source": [
    "doveish_df"
   ]
  },
  {
   "cell_type": "code",
   "execution_count": 24,
   "metadata": {},
   "outputs": [],
   "source": [
    "hawkish_df = pd.DataFrame(hawkish, columns=['words'])\n",
    "hawkish_df['label'] = 'hawkish'"
   ]
  },
  {
   "cell_type": "code",
   "execution_count": 25,
   "metadata": {},
   "outputs": [
    {
     "data": {
      "text/html": [
       "<div>\n",
       "<style scoped>\n",
       "    .dataframe tbody tr th:only-of-type {\n",
       "        vertical-align: middle;\n",
       "    }\n",
       "\n",
       "    .dataframe tbody tr th {\n",
       "        vertical-align: top;\n",
       "    }\n",
       "\n",
       "    .dataframe thead th {\n",
       "        text-align: right;\n",
       "    }\n",
       "</style>\n",
       "<table border=\"1\" class=\"dataframe\">\n",
       "  <thead>\n",
       "    <tr style=\"text-align: right;\">\n",
       "      <th></th>\n",
       "      <th>words</th>\n",
       "      <th>label</th>\n",
       "    </tr>\n",
       "  </thead>\n",
       "  <tbody>\n",
       "    <tr>\n",
       "      <th>0</th>\n",
       "      <td>뉴욕 특파원 유럽연합 경쟁 당국 장외 신용파생상품 크레디트디폴트스왑 둘러싼 반독점 ...</td>\n",
       "      <td>hawkish</td>\n",
       "    </tr>\n",
       "    <tr>\n",
       "      <th>1</th>\n",
       "      <td>기자 국회 일 전체 회의 열 주택 상가 임차인 보호 조항 강화 주택임대차보호법 상가...</td>\n",
       "      <td>hawkish</td>\n",
       "    </tr>\n",
       "    <tr>\n",
       "      <th>2</th>\n",
       "      <td>기자 최근 증권사 대표 임원 자사주 매입 잇따르 실적 악화 따른 주가 하락 방어 한...</td>\n",
       "      <td>hawkish</td>\n",
       "    </tr>\n",
       "    <tr>\n",
       "      <th>3</th>\n",
       "      <td>투자 증권 미국 이양 완화 출구전략 공식화 주식시장 요동치 미국 연방준비제도의장 지...</td>\n",
       "      <td>hawkish</td>\n",
       "    </tr>\n",
       "    <tr>\n",
       "      <th>4</th>\n",
       "      <td>기자 지난 월 도입 국민 검사 청구 사례 금융사 양도성예금증서 금리 담합 의혹 될 ...</td>\n",
       "      <td>hawkish</td>\n",
       "    </tr>\n",
       "    <tr>\n",
       "      <th>...</th>\n",
       "      <td>...</td>\n",
       "      <td>...</td>\n",
       "    </tr>\n",
       "    <tr>\n",
       "      <th>36513</th>\n",
       "      <td>뱅크 기자 실리콘밸리 은행 사태 이후 국내 은행 안전성 대한 우려 커졌 예금 금리 ...</td>\n",
       "      <td>hawkish</td>\n",
       "    </tr>\n",
       "    <tr>\n",
       "      <th>36514</th>\n",
       "      <td>기자 시산 불피 해소 상공인 대상 년 최대 저금리 대출 시행 기존 대출 년 만기 연...</td>\n",
       "      <td>hawkish</td>\n",
       "    </tr>\n",
       "    <tr>\n",
       "      <th>36515</th>\n",
       "      <td>기자 기대 한국 방산 업체 투자 펀드 지난 수익률 위 차지 러시아 우크라이나 전쟁 ...</td>\n",
       "      <td>hawkish</td>\n",
       "    </tr>\n",
       "    <tr>\n",
       "      <th>36516</th>\n",
       "      <td>기자 지난해 혼자 사 청년 명중 전월세 형태 거주 나타났 반지하 지하 옥탑 원룸 주...</td>\n",
       "      <td>hawkish</td>\n",
       "    </tr>\n",
       "    <tr>\n",
       "      <th>36517</th>\n",
       "      <td>기자 갈지자 행보 이 코스피지수 선 다시 분수령 맞 양호 분위기 이어진 분기 실적시...</td>\n",
       "      <td>hawkish</td>\n",
       "    </tr>\n",
       "  </tbody>\n",
       "</table>\n",
       "<p>36518 rows × 2 columns</p>\n",
       "</div>"
      ],
      "text/plain": [
       "                                                   words    label\n",
       "0      뉴욕 특파원 유럽연합 경쟁 당국 장외 신용파생상품 크레디트디폴트스왑 둘러싼 반독점 ...  hawkish\n",
       "1      기자 국회 일 전체 회의 열 주택 상가 임차인 보호 조항 강화 주택임대차보호법 상가...  hawkish\n",
       "2      기자 최근 증권사 대표 임원 자사주 매입 잇따르 실적 악화 따른 주가 하락 방어 한...  hawkish\n",
       "3      투자 증권 미국 이양 완화 출구전략 공식화 주식시장 요동치 미국 연방준비제도의장 지...  hawkish\n",
       "4      기자 지난 월 도입 국민 검사 청구 사례 금융사 양도성예금증서 금리 담합 의혹 될 ...  hawkish\n",
       "...                                                  ...      ...\n",
       "36513  뱅크 기자 실리콘밸리 은행 사태 이후 국내 은행 안전성 대한 우려 커졌 예금 금리 ...  hawkish\n",
       "36514  기자 시산 불피 해소 상공인 대상 년 최대 저금리 대출 시행 기존 대출 년 만기 연...  hawkish\n",
       "36515  기자 기대 한국 방산 업체 투자 펀드 지난 수익률 위 차지 러시아 우크라이나 전쟁 ...  hawkish\n",
       "36516  기자 지난해 혼자 사 청년 명중 전월세 형태 거주 나타났 반지하 지하 옥탑 원룸 주...  hawkish\n",
       "36517  기자 갈지자 행보 이 코스피지수 선 다시 분수령 맞 양호 분위기 이어진 분기 실적시...  hawkish\n",
       "\n",
       "[36518 rows x 2 columns]"
      ]
     },
     "execution_count": 25,
     "metadata": {},
     "output_type": "execute_result"
    }
   ],
   "source": [
    "hawkish_df"
   ]
  },
  {
   "cell_type": "code",
   "execution_count": 26,
   "metadata": {},
   "outputs": [],
   "source": [
    "word_df = pd.concat([doveish_df, hawkish_df], axis=0)"
   ]
  },
  {
   "cell_type": "code",
   "execution_count": 30,
   "metadata": {},
   "outputs": [
    {
     "data": {
      "text/html": [
       "<div>\n",
       "<style scoped>\n",
       "    .dataframe tbody tr th:only-of-type {\n",
       "        vertical-align: middle;\n",
       "    }\n",
       "\n",
       "    .dataframe tbody tr th {\n",
       "        vertical-align: top;\n",
       "    }\n",
       "\n",
       "    .dataframe thead th {\n",
       "        text-align: right;\n",
       "    }\n",
       "</style>\n",
       "<table border=\"1\" class=\"dataframe\">\n",
       "  <thead>\n",
       "    <tr style=\"text-align: right;\">\n",
       "      <th></th>\n",
       "      <th>words</th>\n",
       "      <th>label</th>\n",
       "    </tr>\n",
       "  </thead>\n",
       "  <tbody>\n",
       "    <tr>\n",
       "      <th>0</th>\n",
       "      <td>기자 기준금리 인하 따라 부동산시장 부동산 대책 시너지효과 발생 기대감 피 오르 전...</td>\n",
       "      <td>doveish</td>\n",
       "    </tr>\n",
       "    <tr>\n",
       "      <th>1</th>\n",
       "      <td>기자 통화정책 나라 환율 맞춰 정하 금리 변수 영향 미친다 엔저 문제 지금 문제 우...</td>\n",
       "      <td>doveish</td>\n",
       "    </tr>\n",
       "    <tr>\n",
       "      <th>2</th>\n",
       "      <td>기자 추경 있 정부 국회 노력 중앙은행 같이 동참 협력 바람직 판단 호주 나라 금리...</td>\n",
       "      <td>doveish</td>\n",
       "    </tr>\n",
       "    <tr>\n",
       "      <th>3</th>\n",
       "      <td>오희 기자 코스피 가금 통 위 기준금리 인하 결정 상승 폭 확대 일 오전 시분 현재...</td>\n",
       "      <td>doveish</td>\n",
       "    </tr>\n",
       "    <tr>\n",
       "      <th>4</th>\n",
       "      <td>뉴욕 특파원 제너럴 보험 사업부문 호주달러 수준 매각 계획 알려졌 마켓 일 현지 시...</td>\n",
       "      <td>doveish</td>\n",
       "    </tr>\n",
       "    <tr>\n",
       "      <th>...</th>\n",
       "      <td>...</td>\n",
       "      <td>...</td>\n",
       "    </tr>\n",
       "    <tr>\n",
       "      <th>36513</th>\n",
       "      <td>뱅크 기자 실리콘밸리 은행 사태 이후 국내 은행 안전성 대한 우려 커졌 예금 금리 ...</td>\n",
       "      <td>hawkish</td>\n",
       "    </tr>\n",
       "    <tr>\n",
       "      <th>36514</th>\n",
       "      <td>기자 시산 불피 해소 상공인 대상 년 최대 저금리 대출 시행 기존 대출 년 만기 연...</td>\n",
       "      <td>hawkish</td>\n",
       "    </tr>\n",
       "    <tr>\n",
       "      <th>36515</th>\n",
       "      <td>기자 기대 한국 방산 업체 투자 펀드 지난 수익률 위 차지 러시아 우크라이나 전쟁 ...</td>\n",
       "      <td>hawkish</td>\n",
       "    </tr>\n",
       "    <tr>\n",
       "      <th>36516</th>\n",
       "      <td>기자 지난해 혼자 사 청년 명중 전월세 형태 거주 나타났 반지하 지하 옥탑 원룸 주...</td>\n",
       "      <td>hawkish</td>\n",
       "    </tr>\n",
       "    <tr>\n",
       "      <th>36517</th>\n",
       "      <td>기자 갈지자 행보 이 코스피지수 선 다시 분수령 맞 양호 분위기 이어진 분기 실적시...</td>\n",
       "      <td>hawkish</td>\n",
       "    </tr>\n",
       "  </tbody>\n",
       "</table>\n",
       "<p>68553 rows × 2 columns</p>\n",
       "</div>"
      ],
      "text/plain": [
       "                                                   words    label\n",
       "0      기자 기준금리 인하 따라 부동산시장 부동산 대책 시너지효과 발생 기대감 피 오르 전...  doveish\n",
       "1      기자 통화정책 나라 환율 맞춰 정하 금리 변수 영향 미친다 엔저 문제 지금 문제 우...  doveish\n",
       "2      기자 추경 있 정부 국회 노력 중앙은행 같이 동참 협력 바람직 판단 호주 나라 금리...  doveish\n",
       "3      오희 기자 코스피 가금 통 위 기준금리 인하 결정 상승 폭 확대 일 오전 시분 현재...  doveish\n",
       "4      뉴욕 특파원 제너럴 보험 사업부문 호주달러 수준 매각 계획 알려졌 마켓 일 현지 시...  doveish\n",
       "...                                                  ...      ...\n",
       "36513  뱅크 기자 실리콘밸리 은행 사태 이후 국내 은행 안전성 대한 우려 커졌 예금 금리 ...  hawkish\n",
       "36514  기자 시산 불피 해소 상공인 대상 년 최대 저금리 대출 시행 기존 대출 년 만기 연...  hawkish\n",
       "36515  기자 기대 한국 방산 업체 투자 펀드 지난 수익률 위 차지 러시아 우크라이나 전쟁 ...  hawkish\n",
       "36516  기자 지난해 혼자 사 청년 명중 전월세 형태 거주 나타났 반지하 지하 옥탑 원룸 주...  hawkish\n",
       "36517  기자 갈지자 행보 이 코스피지수 선 다시 분수령 맞 양호 분위기 이어진 분기 실적시...  hawkish\n",
       "\n",
       "[68553 rows x 2 columns]"
      ]
     },
     "execution_count": 30,
     "metadata": {},
     "output_type": "execute_result"
    }
   ],
   "source": [
    "word_df"
   ]
  },
  {
   "cell_type": "code",
   "execution_count": 35,
   "metadata": {},
   "outputs": [],
   "source": [
    "import os\n",
    "from datetime import datetime, timedelta\n",
    "from dateutil.relativedelta import relativedelta\n",
    "\n",
    "def select_MPB(target_date):\n",
    "    start_date = \"2013-05-09\"\n",
    "    def date_range(start, end):\n",
    "        start = datetime.strptime(start, \"%Y-%m-%d\")\n",
    "        end = datetime.strptime(end, \"%Y-%m\")\n",
    "        before_one_day = end - relativedelta(days=30)\n",
    "        dates = [(start + timedelta(days=i)).strftime(\"%Y-%m-%d\") for i in range((before_one_day-start).days+1)]\n",
    "        return dates\n",
    "\n",
    "    dates = date_range(start_date, target_date)\n",
    "\n",
    "    path = \"./MPB_crawling_dataset\"\n",
    "    file_list = []\n",
    "    if os.path.isdir(path):\n",
    "        text_list = os.listdir(path)\n",
    "        for i in text_list:\n",
    "            if i[-3:] == \"txt\":\n",
    "                target_file = i[:-4]\n",
    "                if target_file in dates:\n",
    "                    file_list.append(i)\n",
    "    MPB_file = file_list[-1]                \n",
    "    f = open(f\"{path}/{MPB_file}\", 'r')\n",
    "    file_text = f.readline()\n",
    "    return file_text\n",
    "\n"
   ]
  },
  {
   "cell_type": "code",
   "execution_count": 43,
   "metadata": {},
   "outputs": [],
   "source": [
    "file_text = select_MPB('2015-07')"
   ]
  },
  {
   "cell_type": "code",
   "execution_count": 48,
   "metadata": {},
   "outputs": [],
   "source": [
    "temp = word_df['label']"
   ]
  },
  {
   "cell_type": "code",
   "execution_count": 49,
   "metadata": {},
   "outputs": [
    {
     "data": {
      "text/plain": [
       "0        doveish\n",
       "1        doveish\n",
       "2        doveish\n",
       "3        doveish\n",
       "4        doveish\n",
       "          ...   \n",
       "36513    hawkish\n",
       "36514    hawkish\n",
       "36515    hawkish\n",
       "36516    hawkish\n",
       "36517    hawkish\n",
       "Name: label, Length: 68553, dtype: object"
      ]
     },
     "execution_count": 49,
     "metadata": {},
     "output_type": "execute_result"
    }
   ],
   "source": [
    "temp"
   ]
  },
  {
   "cell_type": "code",
   "execution_count": 50,
   "metadata": {},
   "outputs": [
    {
     "name": "stderr",
     "output_type": "stream",
     "text": [
      "/Users/gimseyeong/anaconda3/envs/nlp/lib/python3.9/site-packages/sklearn/feature_extraction/text.py:525: UserWarning: The parameter 'token_pattern' will not be used since 'tokenizer' is not None'\n",
      "  warnings.warn(\n"
     ]
    },
    {
     "name": "stdout",
     "output_type": "stream",
     "text": [
      "0.7480927165842487\n",
      "['doveish']\n"
     ]
    }
   ],
   "source": [
    "from sklearn.feature_extraction.text import CountVectorizer\n",
    "from sklearn.naive_bayes import MultinomialNB\n",
    "from ekonlpy import Mecab\n",
    "#모델 훈련및 결과출력\n",
    "# def Model_test(word_list,file_text):\n",
    "    # 1. 데이터 준비\n",
    "X_train = word_df['words']\n",
    "y_train = word_df['label']\n",
    "# 2. 특성 추출 (형태소 분석 및 n-그램)\n",
    "mecab = Mecab()\n",
    "tagger = mecab.pos\n",
    "mecab_tokenize = lambda text: [token for token, pos in tagger(text)]\n",
    "vectorizer = CountVectorizer(tokenizer=mecab_tokenize, ngram_range=(1, 5), min_df=15)\n",
    "X_train_counts = vectorizer.fit_transform(X_train)\n",
    "# 3. 나이브 베이즈 모델 학습\n",
    "clf = MultinomialNB()\n",
    "clf.fit(X_train_counts, y_train)\n",
    "print(clf.score(X_train_counts, y_train))\n",
    "#4. 새로운 입력 예측\n",
    "X_test = [file_text]\n",
    "X_test_counts = vectorizer.transform(X_test)\n",
    "predicted_labels = clf.predict(X_test_counts)\n",
    "print(predicted_labels)"
   ]
  },
  {
   "cell_type": "code",
   "execution_count": null,
   "metadata": {},
   "outputs": [],
   "source": []
  }
 ],
 "metadata": {
  "kernelspec": {
   "display_name": "nlp",
   "language": "python",
   "name": "python3"
  },
  "language_info": {
   "codemirror_mode": {
    "name": "ipython",
    "version": 3
   },
   "file_extension": ".py",
   "mimetype": "text/x-python",
   "name": "python",
   "nbconvert_exporter": "python",
   "pygments_lexer": "ipython3",
   "version": "3.9.17"
  },
  "orig_nbformat": 4
 },
 "nbformat": 4,
 "nbformat_minor": 2
}
